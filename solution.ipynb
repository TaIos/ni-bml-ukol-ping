{
 "cells": [
  {
   "cell_type": "markdown",
   "metadata": {},
   "source": [
    "## Monitoring odezvy pingu (20b)\n",
    "Produkt: jupyter notebook (příp. skript), který posílá pingy na vhodně vybraný server. Stanovíte si rozumnou mez round-trip-time (RTT) pro odpověď, kdy bude považována za úspěch (X=1), pokud pong překročí tuto mez nebo nedorazí vůbec, počítáte neúspěch (X=0). Cílem je sekvenčně modelovat pravděpodobnost úspěšné odezvy p(X=1). Skript by měl obsahovat parametr, který určí, kolik pingů se pošle jednorázově. Při jednom modelujete Bernoulliho rozdělením, při více pingách binomickým. Apriorno je beta. Vykresluje se vývoj bodového odhadu pravděpodobnosti +/- 3 směrodatné odchylky (odmocniny z variance)."
   ]
  },
  {
   "cell_type": "code",
   "execution_count": null,
   "metadata": {},
   "outputs": [],
   "source": [
    "# TODO"
   ]
  }
 ],
 "metadata": {
  "kernelspec": {
   "display_name": "Python 3",
   "language": "python",
   "name": "python3"
  },
  "language_info": {
   "codemirror_mode": {
    "name": "ipython",
    "version": 3
   },
   "file_extension": ".py",
   "mimetype": "text/x-python",
   "name": "python",
   "nbconvert_exporter": "python",
   "pygments_lexer": "ipython3",
   "version": "3.9.1"
  },
  "varInspector": {
   "cols": {
    "lenName": 16,
    "lenType": 16,
    "lenVar": 40
   },
   "kernels_config": {
    "python": {
     "delete_cmd_postfix": "",
     "delete_cmd_prefix": "del ",
     "library": "var_list.py",
     "varRefreshCmd": "print(var_dic_list())"
    },
    "r": {
     "delete_cmd_postfix": ") ",
     "delete_cmd_prefix": "rm(",
     "library": "var_list.r",
     "varRefreshCmd": "cat(var_dic_list()) "
    }
   },
   "types_to_exclude": [
    "module",
    "function",
    "builtin_function_or_method",
    "instance",
    "_Feature"
   ],
   "window_display": false
  }
 },
 "nbformat": 4,
 "nbformat_minor": 4
}
